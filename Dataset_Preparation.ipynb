{
  "nbformat": 4,
  "nbformat_minor": 0,
  "metadata": {
    "colab": {
      "name": "Dataset_Preparation.ipynb",
      "provenance": []
    },
    "kernelspec": {
      "name": "python3",
      "display_name": "Python 3"
    }
  },
  "cells": [
    {
      "cell_type": "code",
      "metadata": {
        "id": "OJfC7Ng_uVqd",
        "colab_type": "code",
        "colab": {
          "base_uri": "https://localhost:8080/",
          "height": 34
        },
        "outputId": "2ddd3ddf-3264-4cec-a4c9-0e06019bb142"
      },
      "source": [
        "from google.colab import drive\n",
        "import os\n",
        "\n",
        "# mount Google Drive\n",
        "# When you mount it, you will be asked for permission, so allow it, copy the key, paste it in the input field on the Colab side, and press Enter.\n",
        "drive.mount('/gdrive')"
      ],
      "execution_count": 1,
      "outputs": [
        {
          "output_type": "stream",
          "text": [
            "Drive already mounted at /gdrive; to attempt to forcibly remount, call drive.mount(\"/gdrive\", force_remount=True).\n"
          ],
          "name": "stdout"
        }
      ]
    },
    {
      "cell_type": "code",
      "metadata": {
        "id": "WB45AALYrTSn",
        "colab_type": "code",
        "colab": {}
      },
      "source": [
        "#path to the relevant file\n",
        "variant_val= '/gdrive/My Drive/data/images_variant_val.txt'"
      ],
      "execution_count": 1,
      "outputs": []
    },
    {
      "cell_type": "code",
      "metadata": {
        "id": "CvuES794rYo4",
        "colab_type": "code",
        "colab": {}
      },
      "source": [
        "#writing .txt files into .csv\n",
        "import pandas as pd\n",
        "df = pd.read_fwf(variant_val)\n",
        "df.to_csv('variant_val.csv')"
      ],
      "execution_count": 2,
      "outputs": []
    },
    {
      "cell_type": "code",
      "metadata": {
        "id": "YdO5tDMA1p8q",
        "colab_type": "code",
        "colab": {}
      },
      "source": [
        "family_val = '/gdrive/My Drive/data/images_family_val.txt'"
      ],
      "execution_count": 46,
      "outputs": []
    },
    {
      "cell_type": "code",
      "metadata": {
        "id": "DMhoRkGy2kN8",
        "colab_type": "code",
        "colab": {}
      },
      "source": [
        "#writing .txt files into .csv\n",
        "import pandas as pd\n",
        "df = pd.read_table(family_val)\n",
        "df.columns = df.columns.str.strip()\n",
        "df.columns = df.columns.str.strip()\n",
        "df.to_csv('family_val.csv')"
      ],
      "execution_count": 47,
      "outputs": []
    },
    {
      "cell_type": "code",
      "metadata": {
        "id": "hxTHcWAKN_w4",
        "colab_type": "code",
        "colab": {
          "base_uri": "https://localhost:8080/",
          "height": 252
        },
        "outputId": "984af50c-0a29-4b56-e424-2445d7363e0c"
      },
      "source": [
        "#concatenating into the final input to model\n",
        "a = pd.read_csv(\"/content/variant_val.csv\")\n",
        "b = pd.read_csv(\"/content/family_val.csv\")\n",
        "print(a)"
      ],
      "execution_count": 27,
      "outputs": [
        {
          "output_type": "stream",
          "text": [
            "      Unnamed: 0    image  variant\n",
            "0              0   481847  707-320\n",
            "1              1   810608  707-320\n",
            "2              2  1514481  707-320\n",
            "3              3   887066  707-320\n",
            "4              4  1318819  707-320\n",
            "...          ...      ...      ...\n",
            "3328        3328  1203670   Yak-42\n",
            "3329        3329   944182   Yak-42\n",
            "3330        3330  1340345   Yak-42\n",
            "3331        3331   765754   Yak-42\n",
            "3332        3332  1594714   Yak-42\n",
            "\n",
            "[3333 rows x 3 columns]\n"
          ],
          "name": "stdout"
        }
      ]
    },
    {
      "cell_type": "code",
      "metadata": {
        "id": "jk0EPoxQOq1L",
        "colab_type": "code",
        "colab": {}
      },
      "source": [
        "merged = a.merge(b, on='image')\n",
        "merged.to_csv(\"output.csv\", index=False)"
      ],
      "execution_count": 28,
      "outputs": []
    },
    {
      "cell_type": "code",
      "metadata": {
        "id": "g1k8fKQUP2e4",
        "colab_type": "code",
        "colab": {}
      },
      "source": [
        " #alternate pythonic code to generate the mapping\n",
        "        variants_dict = {}\n",
        "        with open(os.path.join(DATAPATH, 'variants.txt'), 'r') as f:\n",
        "            for idx, line in enumerate(f.readlines()):\n",
        "                variants_dict[line.strip()] = idx\n",
        "                num_classes = len(variants_dict)\n",
        "\n",
        "\n",
        "        images = []\n",
        "        labels = []\n",
        "        if phase == 'train':\n",
        "            list_path = os.path.join(DATAPATH, 'images_variant_train.txt')\n",
        "            with open(list_path, 'r') as f:\n",
        "              for line in f.readlines():\n",
        "                fname_and_variant = line.strip()\n",
        "                images.append(fname_and_variant[:FILENAME_LENGTH])\n",
        "                labels.append(variants_dict[fname_and_variant[FILENAME_LENGTH + 1:]])\n",
        "            \n",
        "        else:\n",
        "            list_path = os.path.join(DATAPATH, 'images_variant_val.txt')\n",
        "            with open(list_path, 'r') as f:\n",
        "              for line in f.readlines():\n",
        "                fname_and_variant = line.strip()\n",
        "                images.append(fname_and_variant[:FILENAME_LENGTH])\n",
        "                labels.append(variants_dict[fname_and_variant[FILENAME_LENGTH + 1:]])\n"
      ],
      "execution_count": null,
      "outputs": []
    }
  ]
}